{
 "cells": [
  {
   "cell_type": "markdown",
   "metadata": {},
   "source": [
    "We will be analyzing the **Titanic data** from Kaggle found on the below link\n",
    "<br>\n",
    "https://www.kaggle.com/c/titanic/data <br>\n",
    "We will be analysing the below question:\n",
    "\n",
    "## Primary Question :) What are the characteristics of the passengers who survived the Titanic?##"
   ]
  },
  {
   "cell_type": "markdown",
   "metadata": {},
   "source": [
    "We will ask ask questions and try to answer them based on our above **Super Question**."
   ]
  },
  {
   "cell_type": "markdown",
   "metadata": {},
   "source": [
    "The below code will import **numpy** and **pandas** which we will be using heavily for our analysis along with other libraries."
   ]
  },
  {
   "cell_type": "code",
   "execution_count": 1,
   "metadata": {
    "collapsed": true
   },
   "outputs": [],
   "source": [
    "import numpy as np\n",
    "import pandas as pd\n",
    "from pandas import DataFrame\n",
    "import matplotlib.pyplot as plt\n",
    "import seaborn as sns"
   ]
  },
  {
   "cell_type": "code",
   "execution_count": 2,
   "metadata": {
    "collapsed": false
   },
   "outputs": [],
   "source": [
    "def clean(df):\n",
    "    '''\n",
    "    The clean() function does the cleaning for us. It takes in a dataframe and returns a cleaned and processes dataframe.\n",
    "    It does 3 things:\n",
    "\n",
    "    1. To handle missing values, below function will fill all NaNs with 0s.\n",
    "    2. The function will also remove the columns on which we will not be performing analysis and return a cleaned DataFrame. \n",
    "       The columns are Name and Ticket columns.\n",
    "    3. For our later analysis, it adds another column ('Sex and  Pclass') in our DataFrame which is\n",
    "       the combination of columns 'Sex' and 'Pclass'. Below are it's values and it's associated meanings: \n",
    "    \n",
    "    a. female1 --> Passenger is a female travelling in Passenger Class 1\n",
    "    b. female2 --> Passenger is a female travelling in Passenger Class 2\n",
    "    c. female3 --> Passenger is a female travelling in Passenger Class 3\n",
    "    d. male1   --> Passenger is a male travelling in Passenger Class 1\n",
    "    e. male2   --> Passenger is a male travelling in Passenger Class 2\n",
    "    f. male3   --> Passenger is a male travelling in Passenger Class 3\n",
    "    '''\n",
    "    df = df_old.drop(['Name', 'Ticket'], axis = 1)\n",
    "    df = df.fillna(0)\n",
    "    df['Sex and Pclass'] = df['Sex'].map(str) + df['Pclass'].map(str)\n",
    "    return df"
   ]
  },
  {
   "cell_type": "code",
   "execution_count": 3,
   "metadata": {
    "collapsed": false
   },
   "outputs": [],
   "source": [
    "def count_of_survived(df):\n",
    "    '''\n",
    "    The count_of_survived() function will be used for plotting the total number of passengers survived and not survived.\n",
    "    It takes in the dataframe and displays the pie chart.\n",
    "    '''\n",
    "    total_passengers = len(df['Survived'])\n",
    "    survived_df = df.groupby(['Survived']).size()\n",
    "    count_survived = survived_df[1]\n",
    "    count_notsurvived = survived_df[0]\n",
    "    print 'Based on the sample of data, {} people survived the Titanic whereas {} did not.\\n'.format(count_survived, count_notsurvived)\n",
    "    print survived_df\n",
    "    \n",
    "    explode = (0.1, 0)\n",
    "    labels = 'Not Survived', 'Survived'\n",
    "    colors = ['gold', 'lightskyblue']\n",
    "\n",
    "    pie_chart = survived_df.plot.pie(explode=explode, labels=labels, colors=colors,\n",
    "            autopct='%1.2f%%', shadow=True, startangle = 90)\n",
    "    pie_chart.axis('equal')\n",
    "    pie_chart.set_ylabel('')\n",
    "    plt.show()"
   ]
  },
  {
   "cell_type": "code",
   "execution_count": 4,
   "metadata": {
    "collapsed": false
   },
   "outputs": [],
   "source": [
    "file_path = r'C:\\Users\\Admin\\Downloads\\titanic-data.csv'\n",
    "\n",
    "#Reading the csv into a dataframe\n",
    "df_old = pd.read_csv(file_path)"
   ]
  },
  {
   "cell_type": "code",
   "execution_count": 5,
   "metadata": {
    "collapsed": false
   },
   "outputs": [
    {
     "name": "stdout",
     "output_type": "stream",
     "text": [
      "Based on the sample of data, 342 people survived the Titanic whereas 549 did not.\n",
      "\n",
      "Survived\n",
      "0    549\n",
      "1    342\n",
      "dtype: int64\n"
     ]
    },
    {
     "data": {
      "image/png": "[encoded data removed]",
      "text/plain": [
       "<matplotlib.figure.Figure at 0x7bfb4d0>"
      ]
     },
     "metadata": {},
     "output_type": "display_data"
    }
   ],
   "source": [
    "#Cleaning the DataFrame and calling the plotting function\n",
    "df = clean(df_old)\n",
    "count_of_survived(df)"
   ]
  },
  {
   "cell_type": "markdown",
   "metadata": {},
   "source": [
    "The above output says that **342 people** survived the Titanic. It is clear from the above pie chart that **38.38 % survived** the Titanic while **61.62% did not survive**. We will be finding out which characteristics of passengers made them more likely to survive."
   ]
  },
  {
   "cell_type": "markdown",
   "metadata": {},
   "source": [
    "When the Titanic starting sinking, it was decided that women be saved first by loading them first in lifeboats as is decribed on the page https://en.wikipedia.org/wiki/RMS_Titanic. <br>\n",
    "We will see below how this decision of **women's safety first** affected their survival rate."
   ]
  },
  {
   "cell_type": "markdown",
   "metadata": {},
   "source": [
    "### Question 1 :) Was being a female one of the factor of surviving the titanic? ###"
   ]
  },
  {
   "cell_type": "code",
   "execution_count": 6,
   "metadata": {
    "collapsed": false
   },
   "outputs": [
    {
     "name": "stdout",
     "output_type": "stream",
     "text": [
      "Survived    0    1\n",
      "Sex               \n",
      "female     81  233\n",
      "male      468  109\n"
     ]
    }
   ],
   "source": [
    "df1 = pd.crosstab(df['Sex'], df['Survived'])\n",
    "print df1"
   ]
  },
  {
   "cell_type": "markdown",
   "metadata": {},
   "source": [
    "The DataFrame above shows that maximum of females survived whereas the males did not share the same fate. We will look at this use a bar chart below."
   ]
  },
  {
   "cell_type": "code",
   "execution_count": 7,
   "metadata": {
    "collapsed": false
   },
   "outputs": [],
   "source": [
    "def bar_by_column(df_temp, col):\n",
    "    '''\n",
    "    The function bar_by_column() takes as parameters, the temporary dataframe created earlier (using crosstab()) \n",
    "    and the column name based on which we want to create a bar graph. This function will do the plotting for us.\n",
    "    '''\n",
    "    values_list = sorted(df[col].unique())                      # list of unique values for the column\n",
    "    title_name = 'Survival by '+ col\n",
    "\n",
    "    bars = df_temp.plot.bar(stacked = True)\n",
    "    bars.set_title(title_name)\n",
    "    bars.set_ylabel('Frequency')\n",
    "    bars.set_xticklabels(values_list, rotation = 0)\n",
    "    handles, _ = bars.get_legend_handles_labels()\n",
    "    bars.legend(handles, ['Not Survived', 'Survived'], title = '')\n",
    "    plt.show()"
   ]
  },
  {
   "cell_type": "code",
   "execution_count": 8,
   "metadata": {
    "collapsed": true
   },
   "outputs": [],
   "source": [
    "def get_survived_percent(df_temp):\n",
    "    '''\n",
    "    This function takes as parameters, the temporary dataframe created earlier (using crosstab()) and\n",
    "    returns a list of survival percentages.\n",
    "    '''\n",
    "    survived_percent = list()\n",
    "    for ind in df_temp.index.values:\n",
    "        total = df_temp.loc[ind].sum()\n",
    "        survived = df_temp[1][ind]\n",
    "        survived_percent.append((float(survived) / float(total)) * 100)\n",
    "    return survived_percent"
   ]
  },
  {
   "cell_type": "code",
   "execution_count": 9,
   "metadata": {
    "collapsed": false
   },
   "outputs": [
    {
     "data": {
      "image/png": "[encoded data removed]",
      "text/plain": [
       "<matplotlib.figure.Figure at 0x7baee50>"
      ]
     },
     "metadata": {},
     "output_type": "display_data"
    },
    {
     "name": "stdout",
     "output_type": "stream",
     "text": [
      "Of the total number of females, 74.2038216561 % of females survived the disaster.For males, it was only 18.8908145581 %.\n"
     ]
    }
   ],
   "source": [
    "bar_by_column(df1, 'Sex')\n",
    "survived_percent = get_survived_percent(df1)\n",
    "print 'Of the total number of females, {} % of females survived the disaster.\\\n",
    "For males, it was only {} %.'.format(survived_percent[0], survived_percent[1])"
   ]
  },
  {
   "cell_type": "markdown",
   "metadata": {},
   "source": [
    "It is clear from the above figures that the decision of **saving women first did prove to be fruitful.**"
   ]
  },
  {
   "cell_type": "markdown",
   "metadata": {},
   "source": [
    "### Answer 1 :) We can then conclude that one of the factors which affected the passengers' survival was being a female. ###"
   ]
  },
  {
   "cell_type": "markdown",
   "metadata": {},
   "source": [
    "<br>\n",
    "<br>\n",
    "**Passenger Class ('Pclass')** was directly proportional to the **socio economic status** of the passenger. <br>\n",
    "Passenger travelling in Pclass 1 was on the topmost rung of the socio economic ladder followed by passengers of Pclass 2 and Pclass 3. This may have affected the survival rate of each class."
   ]
  },
  {
   "cell_type": "markdown",
   "metadata": {},
   "source": [
    "### Question 2 :) Was the survival of passengers based on the Passenger Class they travelled? ###"
   ]
  },
  {
   "cell_type": "markdown",
   "metadata": {},
   "source": [
    "We will try to answer the question using the functions **survival_by_column()** and **bar_by_column()** defined above."
   ]
  },
  {
   "cell_type": "code",
   "execution_count": 10,
   "metadata": {
    "collapsed": false
   },
   "outputs": [
    {
     "name": "stdout",
     "output_type": "stream",
     "text": [
      "Survived    0    1\n",
      "Pclass            \n",
      "1          80  136\n",
      "2          97   87\n",
      "3         372  119\n"
     ]
    }
   ],
   "source": [
    "df2 = pd.crosstab(df['Pclass'], df['Survived'])\n",
    "print df2"
   ]
  },
  {
   "cell_type": "code",
   "execution_count": 11,
   "metadata": {
    "collapsed": false
   },
   "outputs": [
    {
     "data": {
      "image/png": "[encoded data removed]",
      "text/plain": [
       "<matplotlib.figure.Figure at 0x7d209b0>"
      ]
     },
     "metadata": {},
     "output_type": "display_data"
    },
    {
     "name": "stdout",
     "output_type": "stream",
     "text": [
      "Of the total number of class 3 passengers, only 24.2362525458 % survived the disaster.For class 1 and class 2, it was 62.962962963 % and 47.2826086957 % respectively,each much higher than class 3.\n"
     ]
    }
   ],
   "source": [
    "bar_by_column(df2, 'Pclass')\n",
    "survived_percent = get_survived_percent(df2)\n",
    "\n",
    "print 'Of the total number of class 3 passengers, only {} % survived the disaster.\\\n",
    "For class 1 and class 2, it was {} % and {} % respectively,\\\n",
    "each much higher than class 3.'.format(survived_percent[2], survived_percent[0], survived_percent[1])"
   ]
  },
  {
   "cell_type": "markdown",
   "metadata": {},
   "source": [
    "It can be seen that passengers of **class 3 were the ones with least survival rate** followed by class 2 and class 1. So, the class system played a role in survival of the disaster."
   ]
  },
  {
   "cell_type": "markdown",
   "metadata": {},
   "source": [
    "### Answer 2 :) We can conclude that another factor which affected the passengers' survival negatively was being in a Passenger Class 3. ###"
   ]
  },
  {
   "cell_type": "markdown",
   "metadata": {},
   "source": [
    "Based on the above two question-answers, we can pose another question."
   ]
  },
  {
   "cell_type": "markdown",
   "metadata": {},
   "source": [
    "### What if a passenger was a **female and also not travelling in Passenger Class3**? How many of such passengers survived?###"
   ]
  },
  {
   "cell_type": "code",
   "execution_count": 12,
   "metadata": {
    "collapsed": false
   },
   "outputs": [
    {
     "name": "stdout",
     "output_type": "stream",
     "text": [
      "Survived          0   1\n",
      "Sex and Pclass         \n",
      "female1           3  91\n",
      "female2           6  70\n",
      "female3          72  72\n",
      "male1            77  45\n",
      "male2            91  17\n",
      "male3           300  47\n"
     ]
    }
   ],
   "source": [
    "df3 = pd.crosstab(df['Sex and Pclass'], df['Survived'])\n",
    "print df3"
   ]
  },
  {
   "cell_type": "code",
   "execution_count": 13,
   "metadata": {
    "collapsed": false
   },
   "outputs": [
    {
     "data": {
      "image/png": "[encoded data removed]",
      "text/plain": [
       "<matplotlib.figure.Figure at 0x7fa1810>"
      ]
     },
     "metadata": {},
     "output_type": "display_data"
    },
    {
     "name": "stdout",
     "output_type": "stream",
     "text": [
      "96.8085106383 % and 92.1052631579% Females travelling in Passenger Class 1 and Class2 survived while 50.0 % females of Class 3 did not.\n"
     ]
    }
   ],
   "source": [
    "bar_by_column(df3, 'Sex and Pclass')\n",
    "survived_percent = get_survived_percent(df3)\n",
    "print '{} % and {}% Females travelling in Passenger Class 1 and Class2 \\\n",
    "survived while {} % females of Class 3 did not.'.format(survived_percent[0], survived_percent[1], survived_percent[2])"
   ]
  },
  {
   "cell_type": "markdown",
   "metadata": {
    "collapsed": true
   },
   "source": [
    "Before getting on to the conclusion, one must note the below limitations of the analysis.\n",
    "<br><br>\n",
    "**Limitations**: <br>The above analysis is only based on the data provided. <br>\n",
    "According to http://www.titanicfacts.net/titanic-passengers.html, there were 2222 people on board the Titanic. So, the provided data is just a small sample of the whole dataset; i.e; **all the people** are not in the available data because of which we cannot conclude for the whole population. There may be other samples of the population for which above analysis may not hold true. <br>\n",
    "We should also not forget about lurking variables in the form of more features of the data. More features of the data will open new windows for analysis. <br>\n",
    "Moreover, correlation in the above data does not necessarily mean causation. In depth analysis of the whole dataset with more features is definitely required here."
   ]
  },
  {
   "cell_type": "markdown",
   "metadata": {},
   "source": [
    "## Conclusion :) It is then clear from the above graphs that the factors most relevant for survival of Titanic is being a female and *not* travelling in Passenger Class 3.##"
   ]
  },
  {
   "cell_type": "code",
   "execution_count": null,
   "metadata": {
    "collapsed": true
   },
   "outputs": [],
   "source": []
  }
 ],
 "metadata": {
  "kernelspec": {
   "display_name": "Python 2",
   "language": "python",
   "name": "python2"
  },
  "language_info": {
   "codemirror_mode": {
    "name": "ipython",
    "version": 2
   },
   "file_extension": ".py",
   "mimetype": "text/x-python",
   "name": "python",
   "nbconvert_exporter": "python",
   "pygments_lexer": "ipython2",
   "version": "2.7.13"
  }
 },
 "nbformat": 4,
 "nbformat_minor": 2
}
